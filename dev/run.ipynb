{
  "cells": [
    {
      "cell_type": "code",
      "source": [
        "from google.colab import drive\n",
        "drive.mount('/content/drive')"
      ],
      "metadata": {
        "id": "UaxYnXzORXHx",
        "outputId": "e6f36414-8e7e-4119-a984-f3565f689201",
        "colab": {
          "base_uri": "https://localhost:8080/"
        }
      },
      "execution_count": 5,
      "outputs": [
        {
          "output_type": "stream",
          "name": "stdout",
          "text": [
            "Drive already mounted at /content/drive; to attempt to forcibly remount, call drive.mount(\"/content/drive\", force_remount=True).\n"
          ]
        }
      ]
    },
    {
      "cell_type": "code",
      "execution_count": 7,
      "metadata": {
        "colab": {
          "base_uri": "https://localhost:8080/"
        },
        "id": "yE5ZNwDVOCbN",
        "outputId": "96a34b34-57df-4ac5-991d-4d595ac36ce8"
      },
      "outputs": [
        {
          "output_type": "stream",
          "name": "stdout",
          "text": [
            "Generated _run notebooks in /content\n"
          ]
        }
      ],
      "source": [
        "import os\n",
        "import json\n",
        "\n",
        "# Change this path to where your .ipynb files are located in Colab\n",
        "# For example, if you uploaded them directly, they might be in /content\n",
        "# If they are in Google Drive, it might be something like '/content/drive/MyDrive/your_folder'\n",
        "directory_path = '/content'\n",
        "file_list = os.listdir(directory_path)\n",
        "\n",
        "for filename in file_list:\n",
        "    if filename.endswith('.ipynb'):\n",
        "        new_filename = filename.replace('.ipynb', '_run.ipynb')\n",
        "        notebook_content = {\n",
        "    \"cells\": [\n",
        "        {\n",
        "            \"attachments\": {},\n",
        "            \"cell_type\": \"markdown\",\n",
        "            \"metadata\": {\"id\": \"view-in-github\"},\n",
        "            \"source\": [\n",
        "                f\"[![Open In Colab](https://colab.research.google.com/assets/colab-badge.svg)](https://colab.research.google.com/github/camenduru/stable-diffusion-webui-colab/blob/main/nightly/{new_filename})\"\n",
        "            ],\n",
        "        },\n",
        "        {\n",
        "            \"cell_type\": \"code\",\n",
        "            \"execution_count\": None,\n",
        "            \"metadata\": {},\n",
        "            \"outputs\": [],\n",
        "            \"source\": [\n",
        "                \"%cd /content\\n\",\n",
        "                \"import urllib, requests\\n\",\n",
        "                \"from notebook import notebookapp\\n\",\n",
        "                \"# This part of the code seems to be designed to get information about the current notebook session.\\n\",\n",
        "                \"# It might require specific notebook server configurations to work correctly.\\n\",\n",
        "                \"# If you encounter issues here, you might need to adjust this part based on your setup.\\n\",\n",
        "                \"try:\\n\",\n",
        "                \"    server_url = list(notebookapp.list_running_servers())[0]['url']\\n\",\n",
        "                \"    session_info = requests.get(f\\\"{server_url}api/sessions\\\").json()[0]\\n\",\n",
        "                \"    name = session_info[\\\"name\\\"].replace(\\\"_run\\\", \\\"\\\")\\n\",\n",
        "                \"    url = '/'.join(urllib.parse.unquote(session_info[\\\"path\\\"].split(\\\"=\\\", 1)[1]).split(\\\"/\\\")).replace(\\\"/blob/\\\", \\\"/\\\").replace(\\\"github.com\\\", \\\"raw.githubusercontent.com\\\").replace(\\\"_run\\\", \\\"\\\")\\n\",\n",
        "                \"    !wget {url} -O {name}\\n\",\n",
        "                \"    %run {name}\\n\",\n",
        "                \"except Exception as e:\\n\",\n",
        "                \"    print(f\\\"Could not automatically get notebook info: {e}\\\")\\n\",\n",
        "                \"    print(\\\"Please manually provide the notebook name and URL if needed.\\\")\\n\",\n",
        "                \"    # You might need to add code here to handle cases where the automatic detection fails\\n\",\n",
        "                \"    # For example, manually setting 'name' and 'url' or prompting the user.\\n\"\n",
        "            ],\n",
        "        },\n",
        "    ],\n",
        "    \"metadata\": {\n",
        "        \"accelerator\": \"GPU\",\n",
        "        \"colab\": {\n",
        "            \"collapsed_sections\": [],\n",
        "            \"private_outputs\": True,\n",
        "            \"provenance\": [],\n",
        "        },\n",
        "        \"gpuClass\": \"standard\",\n",
        "        \"kernelspec\": {\n",
        "            \"display_name\": \"Python 3\",\n",
        "            \"language\": \"python\",\n",
        "            \"name\": \"python3\",\n",
        "        },\n",
        "        \"language_info\": {\n",
        "            \"name\": \"python\",\n",
        "            \"version\": \"3.10.8\",\n",
        "        },\n",
        "    },\n",
        "    \"nbformat\": 4,\n",
        "    \"nbformat_minor\": 0,\n",
        "}\n",
        "\n",
        "        with open(os.path.join(directory_path, new_filename), 'w') as notebook_file:\n",
        "            json.dump(notebook_content, notebook_file, indent=2)\n",
        "\n",
        "print(f\"Generated _run notebooks in {directory_path}\")"
      ]
    }
  ],
  "metadata": {
    "kernelspec": {
      "display_name": "Python 3",
      "name": "python3"
    },
    "language_info": {
      "codemirror_mode": {
        "name": "ipython",
        "version": 3
      },
      "file_extension": ".py",
      "mimetype": "text/x-python",
      "name": "python",
      "nbconvert_exporter": "python",
      "pygments_lexer": "ipython3",
      "version": "3.11.5"
    },
    "orig_nbformat": 4,
    "colab": {
      "provenance": [],
      "gpuType": "T4"
    },
    "accelerator": "GPU"
  },
  "nbformat": 4,
  "nbformat_minor": 0
}